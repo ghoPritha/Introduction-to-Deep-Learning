{
  "cells": [
    {
      "cell_type": "code",
      "execution_count": 1,
      "metadata": {
        "id": "53XXnPTTAWRW",
        "colab": {
          "base_uri": "https://localhost:8080/",
          "height": 363
        },
        "outputId": "2512c1cb-940c-4995-9019-3e3988db5548"
      },
      "outputs": [
        {
          "output_type": "error",
          "ename": "MessageError",
          "evalue": "ignored",
          "traceback": [
            "\u001b[0;31m---------------------------------------------------------------------------\u001b[0m",
            "\u001b[0;31mMessageError\u001b[0m                              Traceback (most recent call last)",
            "\u001b[0;32m<ipython-input-1-c102aa3f1ba7>\u001b[0m in \u001b[0;36m<module>\u001b[0;34m\u001b[0m\n\u001b[1;32m      1\u001b[0m \u001b[0;32mfrom\u001b[0m \u001b[0mgoogle\u001b[0m\u001b[0;34m.\u001b[0m\u001b[0mcolab\u001b[0m \u001b[0;32mimport\u001b[0m \u001b[0mdrive\u001b[0m\u001b[0;34m\u001b[0m\u001b[0;34m\u001b[0m\u001b[0m\n\u001b[0;32m----> 2\u001b[0;31m \u001b[0mdrive\u001b[0m\u001b[0;34m.\u001b[0m\u001b[0mmount\u001b[0m\u001b[0;34m(\u001b[0m\u001b[0;34m'/content/drive'\u001b[0m\u001b[0;34m)\u001b[0m\u001b[0;34m\u001b[0m\u001b[0;34m\u001b[0m\u001b[0m\n\u001b[0m\u001b[1;32m      3\u001b[0m \u001b[0;32mimport\u001b[0m \u001b[0mos\u001b[0m\u001b[0;34m\u001b[0m\u001b[0;34m\u001b[0m\u001b[0m\n\u001b[1;32m      4\u001b[0m \u001b[0;31m# os.chdir(\"drive/MyDrive/Colab Notebooks\")\u001b[0m\u001b[0;34m\u001b[0m\u001b[0;34m\u001b[0m\u001b[0;34m\u001b[0m\u001b[0m\n",
            "\u001b[0;32m/usr/local/lib/python3.7/dist-packages/google/colab/drive.py\u001b[0m in \u001b[0;36mmount\u001b[0;34m(mountpoint, force_remount, timeout_ms, readonly)\u001b[0m\n\u001b[1;32m    104\u001b[0m       \u001b[0mtimeout_ms\u001b[0m\u001b[0;34m=\u001b[0m\u001b[0mtimeout_ms\u001b[0m\u001b[0;34m,\u001b[0m\u001b[0;34m\u001b[0m\u001b[0;34m\u001b[0m\u001b[0m\n\u001b[1;32m    105\u001b[0m       \u001b[0mephemeral\u001b[0m\u001b[0;34m=\u001b[0m\u001b[0;32mTrue\u001b[0m\u001b[0;34m,\u001b[0m\u001b[0;34m\u001b[0m\u001b[0;34m\u001b[0m\u001b[0m\n\u001b[0;32m--> 106\u001b[0;31m       readonly=readonly)\n\u001b[0m\u001b[1;32m    107\u001b[0m \u001b[0;34m\u001b[0m\u001b[0m\n\u001b[1;32m    108\u001b[0m \u001b[0;34m\u001b[0m\u001b[0m\n",
            "\u001b[0;32m/usr/local/lib/python3.7/dist-packages/google/colab/drive.py\u001b[0m in \u001b[0;36m_mount\u001b[0;34m(mountpoint, force_remount, timeout_ms, ephemeral, readonly)\u001b[0m\n\u001b[1;32m    123\u001b[0m   \u001b[0;32mif\u001b[0m \u001b[0mephemeral\u001b[0m\u001b[0;34m:\u001b[0m\u001b[0;34m\u001b[0m\u001b[0;34m\u001b[0m\u001b[0m\n\u001b[1;32m    124\u001b[0m     _message.blocking_request(\n\u001b[0;32m--> 125\u001b[0;31m         'request_auth', request={'authType': 'dfs_ephemeral'}, timeout_sec=None)\n\u001b[0m\u001b[1;32m    126\u001b[0m \u001b[0;34m\u001b[0m\u001b[0m\n\u001b[1;32m    127\u001b[0m   \u001b[0mmountpoint\u001b[0m \u001b[0;34m=\u001b[0m \u001b[0m_os\u001b[0m\u001b[0;34m.\u001b[0m\u001b[0mpath\u001b[0m\u001b[0;34m.\u001b[0m\u001b[0mexpanduser\u001b[0m\u001b[0;34m(\u001b[0m\u001b[0mmountpoint\u001b[0m\u001b[0;34m)\u001b[0m\u001b[0;34m\u001b[0m\u001b[0;34m\u001b[0m\u001b[0m\n",
            "\u001b[0;32m/usr/local/lib/python3.7/dist-packages/google/colab/_message.py\u001b[0m in \u001b[0;36mblocking_request\u001b[0;34m(request_type, request, timeout_sec, parent)\u001b[0m\n\u001b[1;32m    169\u001b[0m   request_id = send_request(\n\u001b[1;32m    170\u001b[0m       request_type, request, parent=parent, expect_reply=True)\n\u001b[0;32m--> 171\u001b[0;31m   \u001b[0;32mreturn\u001b[0m \u001b[0mread_reply_from_input\u001b[0m\u001b[0;34m(\u001b[0m\u001b[0mrequest_id\u001b[0m\u001b[0;34m,\u001b[0m \u001b[0mtimeout_sec\u001b[0m\u001b[0;34m)\u001b[0m\u001b[0;34m\u001b[0m\u001b[0;34m\u001b[0m\u001b[0m\n\u001b[0m",
            "\u001b[0;32m/usr/local/lib/python3.7/dist-packages/google/colab/_message.py\u001b[0m in \u001b[0;36mread_reply_from_input\u001b[0;34m(message_id, timeout_sec)\u001b[0m\n\u001b[1;32m    100\u001b[0m         reply.get('colab_msg_id') == message_id):\n\u001b[1;32m    101\u001b[0m       \u001b[0;32mif\u001b[0m \u001b[0;34m'error'\u001b[0m \u001b[0;32min\u001b[0m \u001b[0mreply\u001b[0m\u001b[0;34m:\u001b[0m\u001b[0;34m\u001b[0m\u001b[0;34m\u001b[0m\u001b[0m\n\u001b[0;32m--> 102\u001b[0;31m         \u001b[0;32mraise\u001b[0m \u001b[0mMessageError\u001b[0m\u001b[0;34m(\u001b[0m\u001b[0mreply\u001b[0m\u001b[0;34m[\u001b[0m\u001b[0;34m'error'\u001b[0m\u001b[0;34m]\u001b[0m\u001b[0;34m)\u001b[0m\u001b[0;34m\u001b[0m\u001b[0;34m\u001b[0m\u001b[0m\n\u001b[0m\u001b[1;32m    103\u001b[0m       \u001b[0;32mreturn\u001b[0m \u001b[0mreply\u001b[0m\u001b[0;34m.\u001b[0m\u001b[0mget\u001b[0m\u001b[0;34m(\u001b[0m\u001b[0;34m'data'\u001b[0m\u001b[0;34m,\u001b[0m \u001b[0;32mNone\u001b[0m\u001b[0;34m)\u001b[0m\u001b[0;34m\u001b[0m\u001b[0;34m\u001b[0m\u001b[0m\n\u001b[1;32m    104\u001b[0m \u001b[0;34m\u001b[0m\u001b[0m\n",
            "\u001b[0;31mMessageError\u001b[0m: Error: credential propagation was unsuccessful"
          ]
        }
      ],
      "source": [
        "import os"
      ]
    },
    {
      "cell_type": "code",
      "execution_count": 2,
      "metadata": {
        "id": "fCksCPnjQxE2",
        "colab": {
          "base_uri": "https://localhost:8080/",
          "height": 334
        },
        "outputId": "8cd66c69-d01d-4fd2-c0ad-dfe6c0c2c0b6"
      },
      "outputs": [
        {
          "output_type": "stream",
          "name": "stdout",
          "text": [
            "Downloading data from https://storage.googleapis.com/tensorflow/tf-keras-datasets/mnist.npz\n",
            "11490434/11490434 [==============================] - 0s 0us/step\n",
            "5\n"
          ]
        },
        {
          "output_type": "execute_result",
          "data": {
            "text/plain": [
              "<matplotlib.image.AxesImage at 0x7f5860109090>"
            ]
          },
          "metadata": {},
          "execution_count": 2
        },
        {
          "output_type": "display_data",
          "data": {
            "text/plain": [
              "<Figure size 432x288 with 1 Axes>"
            ],
            "image/png": "[encoded data removed]"
          },
          "metadata": {
            "needs_background": "light"
          }
        }
      ],
      "source": [
        "import tensorflow as tf\n",
        "import numpy as np\n",
        "import matplotlib.pyplot as plt\n",
        "(train_images, train_labels), (test_images, test_labels) = tf.keras.datasets.mnist.load_data()\n",
        "\n",
        "train_set = tf.data.Dataset.from_tensor_slices(\n",
        "    (train_images.reshape([-1, 28, 28, 1]).astype(np.float32), train_labels.astype(np.int32)))\n",
        "train_set = train_set.shuffle(buffer_size=60000).batch(128).repeat()\n",
        "\n",
        "test_set = tf.data.Dataset.from_tensor_slices(\n",
        "    (test_images.reshape([-1, 28, 28, 1]).astype(np.float32), test_labels.astype(np.int32))).batch(128)\n",
        "print(train_labels[0])\n",
        "plt.imshow(train_images[0], cmap=\"Greys_r\")"
      ]
    },
    {
      "cell_type": "code",
      "execution_count": 3,
      "metadata": {
        "colab": {
          "base_uri": "https://localhost:8080/"
        },
        "id": "lk_HB5JM5gXL",
        "outputId": "322e2f90-2f88-4c8b-ca18-c4ceb7bdf1ca"
      },
      "outputs": [
        {
          "output_type": "stream",
          "name": "stdout",
          "text": [
            "(60000, 28, 28) (60000,) (10000, 28, 28) (10000,)\n"
          ]
        }
      ],
      "source": [
        "print(train_images.shape, train_labels.shape, test_images.shape, test_labels.shape)"
      ]
    },
    {
      "cell_type": "code",
      "execution_count": 4,
      "metadata": {
        "colab": {
          "base_uri": "https://localhost:8080/"
        },
        "id": "jpuCMU24O5Uj",
        "outputId": "88270f83-9253-4f1e-a513-f3d51bac675b"
      },
      "outputs": [
        {
          "output_type": "stream",
          "name": "stdout",
          "text": [
            "(128, 28, 28, 1)\n",
            "(128,)\n",
            "(128, 28, 28, 1)\n",
            "(128,)\n"
          ]
        }
      ],
      "source": [
        "for image_batch, labels_batch in train_set:\n",
        "  print(image_batch.shape)\n",
        "  print(labels_batch.shape)\n",
        "  break\n",
        "for image_batch, labels_batch in test_set:\n",
        "  print(image_batch.shape)\n",
        "  print(labels_batch.shape)\n",
        "  break"
      ]
    },
    {
      "cell_type": "code",
      "execution_count": 32,
      "metadata": {
        "id": "FpxVBGo05jfP"
      },
      "outputs": [],
      "source": [
        "num_labels = len(train_labels)\n",
        "\n",
        "model = tf.keras.Sequential([\n",
        "  tf.keras.layers.Rescaling(1./255, input_shape=(28, 28, 1)),\n",
        "  tf.keras.layers.Conv2D(16, (3,3), padding='same', activation='relu'),\n",
        "  tf.keras.layers.MaxPooling2D(pool_size=(2, 2), strides=2),\n",
        "  # tf.keras.layers.Conv2D(32, (3,3), padding='same', activation='relu'),\n",
        "  # tf.keras.layers.MaxPooling2D(pool_size=(2, 2), strides=2),\n",
        "  tf.keras.layers.Conv2D(64,  (3,3), padding='same', activation='relu'),\n",
        "  tf.keras.layers.MaxPooling2D(pool_size=(2, 2), strides=2),\n",
        "  tf.keras.layers.Flatten(),\n",
        "  # tf.keras.layers.Dense(128, activation='relu'),\n",
        "  tf.keras.layers.Dense(10)\n",
        "])\n",
        "model.build((None, 784)) \n",
        "train_steps = 2000"
      ]
    },
    {
      "cell_type": "code",
      "execution_count": 33,
      "metadata": {
        "colab": {
          "base_uri": "https://localhost:8080/"
        },
        "id": "01IMfCXhTThJ",
        "outputId": "f0ed899c-6387-490a-fce3-70b131bd6b85"
      },
      "outputs": [
        {
          "output_type": "stream",
          "name": "stdout",
          "text": [
            "Model: \"sequential_10\"\n",
            "_________________________________________________________________\n",
            " Layer (type)                Output Shape              Param #   \n",
            "=================================================================\n",
            " rescaling_10 (Rescaling)    (None, 28, 28, 1)         0         \n",
            "                                                                 \n",
            " conv2d_21 (Conv2D)          (None, 28, 28, 16)        160       \n",
            "                                                                 \n",
            " max_pooling2d_21 (MaxPoolin  (None, 14, 14, 16)       0         \n",
            " g2D)                                                            \n",
            "                                                                 \n",
            " conv2d_22 (Conv2D)          (None, 14, 14, 64)        9280      \n",
            "                                                                 \n",
            " max_pooling2d_22 (MaxPoolin  (None, 7, 7, 64)         0         \n",
            " g2D)                                                            \n",
            "                                                                 \n",
            " flatten_10 (Flatten)        (None, 3136)              0         \n",
            "                                                                 \n",
            " dense_13 (Dense)            (None, 10)                31370     \n",
            "                                                                 \n",
            "=================================================================\n",
            "Total params: 40,810\n",
            "Trainable params: 40,810\n",
            "Non-trainable params: 0\n",
            "_________________________________________________________________\n"
          ]
        }
      ],
      "source": [
        "model.summary()\n"
      ]
    },
    {
      "cell_type": "code",
      "source": [
        "optimizer = tf.keras.optimizers.Adam(learning_rate=0.08)  # tune this\n",
        "# from_logits = True!! #neverforget\n",
        "loss_fn = tf.losses.SparseCategoricalCrossentropy(from_logits=True)\n",
        "train_acc_metric = tf.keras.metrics.SparseCategoricalAccuracy()\n",
        "\n",
        "for step, (image_batch, label_batch) in enumerate(train_set):\n",
        "    if step > train_steps:\n",
        "        break\n",
        "\n",
        "    with tf.GradientTape() as tape:\n",
        "        logits = model(image_batch)\n",
        "        # loss format is generally: first argument targets, second argument outputs\n",
        "        loss = loss_fn(label_batch, logits)\n",
        "\n",
        "    # if you didn't build the model, it is important that you get the variables\n",
        "    # AFTER the model has been called the first time\n",
        "    variables = model.trainable_variables\n",
        "    gradients = tape.gradient(loss, variables)\n",
        "      \n",
        "    optimizer.apply_gradients(zip(gradients, variables))\n",
        "    \n",
        "    train_acc_metric(label_batch, logits)\n",
        "    \n",
        "    if not step % 200:\n",
        "        # this is different from before. there, we only evaluated accuracy\n",
        "        # for one batch. Now, we always average over 100 batches\n",
        "        print(\"Step {} Loss: {} Accuracy: {}\".format(step, loss, train_acc_metric.result()))\n",
        "        train_acc_metric.reset_states()\n",
        "    del tape"
      ],
      "metadata": {
        "colab": {
          "base_uri": "https://localhost:8080/"
        },
        "id": "ZIIjx7QTbMJC",
        "outputId": "ebe009f9-a060-4161-f19b-c49115e16162"
      },
      "execution_count": 34,
      "outputs": [
        {
          "output_type": "stream",
          "name": "stdout",
          "text": [
            "Step 0 Loss: 2.3154239654541016 Accuracy: 0.1328125\n",
            "Step 200 Loss: 0.1861569881439209 Accuracy: 0.8943750262260437\n",
            "Step 400 Loss: 0.2244667410850525 Accuracy: 0.9458203315734863\n",
            "Step 600 Loss: 0.2656990587711334 Accuracy: 0.9483338594436646\n",
            "Step 800 Loss: 0.015504181385040283 Accuracy: 0.9434375166893005\n",
            "Step 1000 Loss: 0.24690338969230652 Accuracy: 0.9436795711517334\n",
            "Step 1200 Loss: 0.31081247329711914 Accuracy: 0.9485937356948853\n",
            "Step 1400 Loss: 0.1685994565486908 Accuracy: 0.9464452862739563\n",
            "Step 1600 Loss: 0.3957340717315674 Accuracy: 0.9447747468948364\n",
            "Step 1800 Loss: 0.32948601245880127 Accuracy: 0.9431250095367432\n",
            "Step 2000 Loss: 0.06330375373363495 Accuracy: 0.9458698630332947\n"
          ]
        }
      ]
    },
    {
      "cell_type": "code",
      "source": [
        "test_acc_metric = tf.keras.metrics.SparseCategoricalAccuracy()\n",
        "for image_batch, label_batch in test_set:\n",
        "    test_acc_metric(label_batch, model(image_batch))\n",
        "print(\"Test acc: {}\".format(test_acc_metric.result()))"
      ],
      "metadata": {
        "id": "y4o_30YpbTBT",
        "colab": {
          "base_uri": "https://localhost:8080/"
        },
        "outputId": "e60c53d2-69d7-4359-9554-bc6a52fbf689"
      },
      "execution_count": 35,
      "outputs": [
        {
          "output_type": "stream",
          "name": "stdout",
          "text": [
            "Test acc: 0.9559000134468079\n"
          ]
        }
      ]
    },
    {
      "cell_type": "markdown",
      "source": [
        "With Cifar10\n",
        "---------------------------------------"
      ],
      "metadata": {
        "id": "XiXtHX-g0QvN"
      }
    },
    {
      "cell_type": "code",
      "execution_count": 2,
      "metadata": {
        "colab": {
          "base_uri": "https://localhost:8080/",
          "height": 335
        },
        "outputId": "cabc39dd-7971-4c2f-f69b-ba816fb118c9",
        "id": "IW_8Etujz6XO"
      },
      "outputs": [
        {
          "output_type": "stream",
          "name": "stdout",
          "text": [
            "Downloading data from https://www.cs.toronto.edu/~kriz/cifar-10-python.tar.gz\n",
            "170498071/170498071 [==============================] - 14s 0us/step\n",
            "[6]\n"
          ]
        },
        {
          "output_type": "execute_result",
          "data": {
            "text/plain": [
              "<matplotlib.image.AxesImage at 0x7f59606c2410>"
            ]
          },
          "metadata": {},
          "execution_count": 2
        },
        {
          "output_type": "display_data",
          "data": {
            "text/plain": [
              "<Figure size 432x288 with 1 Axes>"
            ],
            "image/png": "[encoded data removed]"
          },
          "metadata": {
            "needs_background": "light"
          }
        }
      ],
      "source": [
        "import tensorflow as tf\n",
        "import numpy as np\n",
        "import matplotlib.pyplot as plt\n",
        "(train_images1, train_labels1), (test_images1, test_labels1) = tf.keras.datasets.cifar10.load_data()\n",
        "\n",
        "train_set1 = tf.data.Dataset.from_tensor_slices(\n",
        "    (train_images1.reshape([-1, 32, 32, 3]).astype(np.float32), train_labels1.astype(np.int32)))\n",
        "train_set1 = train_set1.shuffle(buffer_size=60000).batch(128).repeat()\n",
        "\n",
        "test_set1 = tf.data.Dataset.from_tensor_slices(\n",
        "    (test_images1.reshape([-1, 32, 32, 3]).astype(np.float32), test_labels1.astype(np.int32))).batch(128)\n",
        "print(train_labels1[0])\n",
        "plt.imshow(train_images1[0], cmap=\"Greys_r\")"
      ]
    },
    {
      "cell_type": "code",
      "execution_count": 9,
      "metadata": {
        "id": "Nars8vuIz6XQ"
      },
      "outputs": [],
      "source": [
        "num_labels = len(train_labels1)\n",
        "\n",
        "model1 = tf.keras.Sequential([\n",
        "  tf.keras.layers.Rescaling(1./255, input_shape=(32, 32, 3)),\n",
        "  tf.keras.layers.Conv2D(16, (3,3), padding='same', activation='relu'),\n",
        "  tf.keras.layers.MaxPooling2D(pool_size=(2, 2), strides=2),\n",
        "  tf.keras.layers.Conv2D(32, (3,3), padding='same', activation='relu'),\n",
        "  tf.keras.layers.MaxPooling2D(pool_size=(2, 2), strides=2),\n",
        "  tf.keras.layers.Conv2D(64,  (3,3), padding='same', activation='relu'),\n",
        "  tf.keras.layers.MaxPooling2D(pool_size=(2, 2), strides=2),\n",
        "  tf.keras.layers.Flatten(),\n",
        "  tf.keras.layers.Dense(256, activation='relu'),\n",
        "  tf.keras.layers.Dense(10)\n",
        "])\n",
        "model1.build((None, 784)) \n",
        "train_steps = 2000"
      ]
    },
    {
      "cell_type": "code",
      "execution_count": 10,
      "metadata": {
        "colab": {
          "base_uri": "https://localhost:8080/"
        },
        "id": "Yz905ifBRsOx",
        "outputId": "acfed383-6a4d-4c67-b2a1-08f4840c44eb"
      },
      "outputs": [
        {
          "output_type": "stream",
          "name": "stdout",
          "text": [
            "Epoch 1/10\n",
            "1563/1563 [==============================] - 7s 4ms/step - loss: 1.4472 - accuracy: 0.4776 - val_loss: 1.2388 - val_accuracy: 0.5539\n",
            "Epoch 2/10\n",
            "1563/1563 [==============================] - 7s 5ms/step - loss: 1.0598 - accuracy: 0.6252 - val_loss: 0.9910 - val_accuracy: 0.6528\n",
            "Epoch 3/10\n",
            "1563/1563 [==============================] - 7s 5ms/step - loss: 0.9050 - accuracy: 0.6807 - val_loss: 0.9409 - val_accuracy: 0.6731\n",
            "Epoch 4/10\n",
            "1563/1563 [==============================] - 7s 5ms/step - loss: 0.7923 - accuracy: 0.7212 - val_loss: 0.8788 - val_accuracy: 0.6943\n",
            "Epoch 5/10\n",
            "1563/1563 [==============================] - 7s 4ms/step - loss: 0.6989 - accuracy: 0.7560 - val_loss: 0.9022 - val_accuracy: 0.6880\n",
            "Epoch 6/10\n",
            "1563/1563 [==============================] - 12s 7ms/step - loss: 0.6159 - accuracy: 0.7834 - val_loss: 0.8804 - val_accuracy: 0.7036\n",
            "Epoch 7/10\n",
            "1563/1563 [==============================] - 8s 5ms/step - loss: 0.5455 - accuracy: 0.8086 - val_loss: 0.8710 - val_accuracy: 0.7107\n",
            "Epoch 8/10\n",
            "1563/1563 [==============================] - 7s 4ms/step - loss: 0.4750 - accuracy: 0.8323 - val_loss: 0.8897 - val_accuracy: 0.7183\n",
            "Epoch 9/10\n",
            "1563/1563 [==============================] - 7s 4ms/step - loss: 0.4060 - accuracy: 0.8582 - val_loss: 0.9491 - val_accuracy: 0.7164\n",
            "Epoch 10/10\n",
            "1563/1563 [==============================] - 6s 4ms/step - loss: 0.3430 - accuracy: 0.8784 - val_loss: 1.0053 - val_accuracy: 0.7126\n"
          ]
        }
      ],
      "source": [
        "model1.compile(optimizer='adam',\n",
        "              loss=tf.keras.losses.SparseCategoricalCrossentropy(from_logits=True),\n",
        "              metrics=['accuracy'])\n",
        "history = model1.fit(train_images1, train_labels1, epochs=10, \n",
        "                    validation_data=(test_images1, test_labels1))"
      ]
    },
    {
      "cell_type": "code",
      "execution_count": 11,
      "metadata": {
        "id": "hiEZNMPiUhXC",
        "colab": {
          "base_uri": "https://localhost:8080/",
          "height": 300
        },
        "outputId": "5b70d7fd-f1d0-45ae-a28b-f05fd07ec56e"
      },
      "outputs": [
        {
          "output_type": "stream",
          "name": "stdout",
          "text": [
            "313/313 - 1s - loss: 1.0053 - accuracy: 0.7126 - 703ms/epoch - 2ms/step\n"
          ]
        },
        {
          "output_type": "display_data",
          "data": {
            "text/plain": [
              "<Figure size 432x288 with 1 Axes>"
            ],
            "image/png": "[encoded data removed]"
          },
          "metadata": {
            "needs_background": "light"
          }
        }
      ],
      "source": [
        "plt.plot(history.history['accuracy'], label='accuracy')\n",
        "plt.plot(history.history['val_accuracy'], label = 'val_accuracy')\n",
        "plt.xlabel('Epoch')\n",
        "plt.ylabel('Accuracy')\n",
        "plt.ylim([0.5, 1])\n",
        "plt.legend(loc='lower right')\n",
        "\n",
        "test_loss, test_acc = model1.evaluate(test_images1,  test_labels1, verbose=2)"
      ]
    }
  ],
  "metadata": {
    "colab": {
      "collapsed_sections": [],
      "provenance": []
    },
    "kernelspec": {
      "display_name": "Python 3",
      "name": "python3"
    },
    "language_info": {
      "name": "python"
    },
    "gpuClass": "standard",
    "accelerator": "GPU"
  },
  "nbformat": 4,
  "nbformat_minor": 0
}