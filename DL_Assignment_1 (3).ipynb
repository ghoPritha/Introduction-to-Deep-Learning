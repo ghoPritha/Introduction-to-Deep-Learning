{
  "nbformat": 4,
  "nbformat_minor": 0,
  "metadata": {
    "colab": {
      "provenance": [],
      "collapsed_sections": []
    },
    "kernelspec": {
      "name": "python3",
      "display_name": "Python 3"
    },
    "language_info": {
      "name": "python"
    }
  },
  "cells": [
    {
      "cell_type": "code",
      "source": [
        "import os\n",
        "os.chdir(\"drive/MyDrive/Colab Notebooks\")"
      ],
      "metadata": {
        "id": "53XXnPTTAWRW"
      },
      "execution_count": null,
      "outputs": []
    },
    {
      "cell_type": "code",
      "execution_count": null,
      "metadata": {
        "id": "fCksCPnjQxE2",
        "colab": {
          "base_uri": "https://localhost:8080/",
          "height": 300
        },
        "outputId": "6ee8681b-fa66-4170-ef5e-6896c4d8b53e"
      },
      "outputs": [
        {
          "output_type": "stream",
          "name": "stdout",
          "text": [
            "Downloading data from https://storage.googleapis.com/tensorflow/tf-keras-datasets/mnist.npz\n",
            "11490434/11490434 [==============================] - 0s 0us/step\n"
          ]
        },
        {
          "output_type": "display_data",
          "data": {
            "text/plain": [
              "<Figure size 432x288 with 1 Axes>"
            ],
            "image/png": "[encoded data removed]"
          },
          "metadata": {
            "needs_background": "light"
          }
        }
      ],
      "source": [
        "import tensorflow as tf\n",
        "import numpy as np\n",
        "import matplotlib.pyplot as plt\n",
        "from datasets import MNISTDataset\n",
        "mnist = tf.keras.datasets.mnist\n",
        "(train_images, train_labels), (test_images, test_labels) = mnist.load_data()\n",
        "\n",
        "plt.imshow(train_images[0], cmap=\"Greys_r\")\n",
        "\n",
        "data = MNISTDataset(train_images.reshape([-1, 784]), train_labels, \n",
        "                    test_images.reshape([-1, 784]), test_labels,\n",
        "                    batch_size=128)"
      ]
    },
    {
      "cell_type": "code",
      "source": [
        "# here is an attempt at illustrating what flattening looks like\n",
        "reshaped = train_images[155].reshape((1, 28*28))\n",
        "plt.figure(figsize=(15, 0.1))\n",
        "plt.pcolormesh(reshaped, cmap=\"Greys_r\")\n",
        "plt.show()"
      ],
      "metadata": {
        "id": "CDgE5rnk5eJU",
        "colab": {
          "base_uri": "https://localhost:8080/",
          "height": 57
        },
        "outputId": "72ae5829-dbd2-4fbc-89a3-ffab8acd1a15"
      },
      "execution_count": null,
      "outputs": [
        {
          "output_type": "display_data",
          "data": {
            "text/plain": [
              "<Figure size 1080x7.2 with 1 Axes>"
            ],
            "image/png": "[encoded data removed]"
          },
          "metadata": {
            "needs_background": "light"
          }
        }
      ]
    },
    {
      "cell_type": "code",
      "source": [
        "print(train_images.shape, train_labels.shape)"
      ],
      "metadata": {
        "id": "lk_HB5JM5gXL",
        "colab": {
          "base_uri": "https://localhost:8080/"
        },
        "outputId": "7afdd9b5-e096-429a-f4fd-0d33367f3c57"
      },
      "execution_count": null,
      "outputs": [
        {
          "output_type": "stream",
          "name": "stdout",
          "text": [
            "(60000, 28, 28) (60000,)\n"
          ]
        }
      ]
    },
    {
      "cell_type": "code",
      "source": [
        "# define the linear model\n",
        "# weight dimensions are completely determined by input/output dimensions\n",
        "# W = tf.Variable(np.zeros([28*28, 10]).astype(np.float32))\n",
        "# b = tf.Variable(np.zeros(10, dtype=np.float32))\n",
        "\n",
        "Weight_0 = tf.Variable(tf.random.uniform(shape = [28*28, 256], minval = -0.1, maxval = 0.1, dtype = tf.dtypes.float32))\n",
        "# bias_0 = tf.Variable(tf.random.normal([128], dtype=np.float32))\n",
        "bias_0 = tf.Variable(np.zeros(256, dtype=np.float32))\n",
        "# Weight_1 = tf.Variable(tf.random.uniform(shape = [512, 128], minval = -0.1, maxval = 0.1, dtype = tf.dtypes.float32))\n",
        "# bias_1 = tf.Variable(tf.random.normal([128], dtype=np.float32))\n",
        "Weight_2 = tf.Variable(tf.random.uniform(shape = [256, 10], minval = -0.1, maxval = 0.1, dtype = tf.dtypes.float32))\n",
        "# bias_2 = tf.Variable(tf.random.normal([10], dtype=np.float32))\n",
        "bias_2 = tf.Variable(np.zeros(10, dtype=np.float32))\n",
        "\n",
        "\n",
        "def model(inputs):\n",
        "    output_0 = tf.nn.relu(tf.matmul(inputs, Weight_0) + bias_0)\n",
        "    # output_1 = tf.nn.relu(tf.matmul(output_0, Weight_1) + bias_1)\n",
        "    output_2 = tf.nn.relu(tf.matmul(output_0, Weight_2) + bias_2)\n",
        "    return output_2\n",
        "\n",
        "# NOTE\n",
        "# the ONLY thing that you should have to change for a working MLP is to\n",
        "# - add more variables\n",
        "# - adapt the model function (don't forget activation functions)\n",
        "# - add the new variables in the gradient call/update below\n",
        "\n",
        "# parameters for the training process\n",
        "# this already offers potential for experimentation\n",
        "# - how many steps do we actually need to reach acceptable performance?\n",
        "# - what if we train for some absurd number of steps?\n",
        "# - what happens if we increase/decrease the learning rate?\n",
        "# - do learning rate and number of steps interact?\n",
        "# - ...\n",
        "train_steps = 6000\n",
        "learning_rate = 0.5"
      ],
      "metadata": {
        "id": "FpxVBGo05jfP"
      },
      "execution_count": null,
      "outputs": []
    },
    {
      "cell_type": "code",
      "source": [
        "# training loop\n",
        "for step in range(train_steps+1):\n",
        "    image_batch, label_batch = data.next_batch()\n",
        "\n",
        "    with tf.GradientTape(persistent=True) as tape:\n",
        "        logits = model(image_batch)\n",
        "        xent = tf.reduce_mean(tf.nn.sparse_softmax_cross_entropy_with_logits(\n",
        "            logits=logits, labels=label_batch))\n",
        "        \n",
        "    grads_0 = tape.gradient(xent, [Weight_0, bias_0])\n",
        "    Weight_0.assign_sub(learning_rate * grads_0[0])\n",
        "    bias_0.assign_sub(learning_rate * grads_0[1])\n",
        "\n",
        "    # grads_1 = tape.gradient(xent, [Weight_1, bias_1])\n",
        "    # Weight_1.assign_sub(learning_rate * grads_1[0])\n",
        "    # bias_1.assign_sub(learning_rate * grads_1[1])\n",
        "\n",
        "    grads_2 = tape.gradient(xent, [Weight_2, bias_2])\n",
        "    Weight_2.assign_sub(learning_rate * grads_2[0])\n",
        "    bias_2.assign_sub(learning_rate * grads_2[1])  \n",
        "\n",
        "    del tape\n",
        "    # every so often we print loss/accuracy\n",
        "    if not step % 500:\n",
        "        preds = tf.argmax(logits, axis=1, output_type=tf.int32)\n",
        "        acc = tf.reduce_mean(tf.cast(tf.equal(preds, label_batch),\n",
        "                             tf.float32))\n",
        "        print(\"Step {}. Batch loss: {} Batch accuracy: {}\".format(step+1, xent, acc))"
      ],
      "metadata": {
        "id": "avSyb8NC5mDY",
        "colab": {
          "base_uri": "https://localhost:8080/"
        },
        "outputId": "3094320e-50d9-4fac-c19f-28eb2fd458e6"
      },
      "execution_count": null,
      "outputs": [
        {
          "output_type": "stream",
          "name": "stdout",
          "text": [
            "Step 1. Batch loss: 2.339751720428467 Batch accuracy: 0.078125\n",
            "Starting new epoch...\n",
            "Step 501. Batch loss: 0.0949556902050972 Batch accuracy: 0.984375\n",
            "Starting new epoch...\n",
            "Step 1001. Batch loss: 0.06079687550663948 Batch accuracy: 0.984375\n",
            "Starting new epoch...\n",
            "Step 1501. Batch loss: 0.042873136699199677 Batch accuracy: 0.984375\n",
            "Starting new epoch...\n",
            "Step 2001. Batch loss: 0.04424075782299042 Batch accuracy: 0.984375\n",
            "Starting new epoch...\n",
            "Step 2501. Batch loss: 0.021050531417131424 Batch accuracy: 1.0\n",
            "Starting new epoch...\n",
            "Step 3001. Batch loss: 0.05318629741668701 Batch accuracy: 0.984375\n",
            "Starting new epoch...\n",
            "Step 3501. Batch loss: 0.009625637903809547 Batch accuracy: 1.0\n",
            "Starting new epoch...\n",
            "Step 4001. Batch loss: 0.007542750798165798 Batch accuracy: 1.0\n",
            "Starting new epoch...\n",
            "Step 4501. Batch loss: 0.015106895007193089 Batch accuracy: 1.0\n",
            "Starting new epoch...\n",
            "Step 5001. Batch loss: 0.014659600332379341 Batch accuracy: 0.9921875\n",
            "Starting new epoch...\n",
            "Step 5501. Batch loss: 0.006277117878198624 Batch accuracy: 1.0\n",
            "Starting new epoch...\n",
            "Step 6001. Batch loss: 0.013748785480856895 Batch accuracy: 1.0\n"
          ]
        }
      ]
    },
    {
      "cell_type": "code",
      "source": [
        "test_preds = tf.argmax(model(data.test_data), axis=1,\n",
        "                       output_type=tf.int32)\n",
        "acc = tf.reduce_mean(tf.cast(tf.equal(test_preds, data.test_labels),\n",
        "                             tf.float32))\n",
        "print(\"Test accuracy using Relu: {}\".format(acc))"
      ],
      "metadata": {
        "colab": {
          "base_uri": "https://localhost:8080/"
        },
        "id": "lhBshQ1L5onM",
        "outputId": "cb7519c8-656a-4457-8fe1-7ad858aad5ad"
      },
      "execution_count": null,
      "outputs": [
        {
          "output_type": "stream",
          "name": "stdout",
          "text": [
            "Test accuracy using Relu: 0.9800000190734863\n"
          ]
        }
      ]
    },
    {
      "cell_type": "markdown",
      "source": [
        "1> step-size effects accuracy ->\n",
        "*   2000 steps results in an accuracy of ~ 95%\n",
        "*   5000 steps results in an accuracy of ~ 96%\n",
        "*   5000 steps results in an accuracy of ~ 97.35%\n",
        "\n",
        "3> Learning rate effects ->\n",
        "*   step = 4000, LR = 0.05 , accuracy ~ 96.1 (increased training time, minute weight updation takes place)\n",
        "*   step = 4000, LR = 0.5 , accuracy ~ 86.87 (drops, high LR skips local minima )\n",
        "\n",
        "4> Learning rate &  number of steps are inter-dependent\n",
        "\n",
        "\n",
        "\n",
        "\n"
      ],
      "metadata": {
        "id": "Oy2LJ49j9Woo"
      }
    },
    {
      "cell_type": "code",
      "source": [
        "# define the linear model\n",
        "# weight dimensions are completely determined by input/output dimensions\n",
        "\n",
        "Weight_0 = tf.Variable(tf.random.uniform(shape = [28*28, 256], minval = -0.1, maxval = 0.1, dtype = tf.dtypes.float32))\n",
        "bias_0 = tf.Variable(np.zeros(256, dtype=np.float32))\n",
        "Weight_2 = tf.Variable(tf.random.uniform(shape = [256, 10], minval = -0.1, maxval = 0.1, dtype = tf.dtypes.float32))\n",
        "bias_2 = tf.Variable(np.zeros(10, dtype=np.float32))\n",
        "\n",
        "\n",
        "def model(inputs):\n",
        "    output_0 = tf.nn.softmax(tf.matmul(inputs, Weight_0) + bias_0)\n",
        "    output_2 = tf.nn.softmax(tf.matmul(output_0, Weight_2) + bias_2)\n",
        "    return output_2\n",
        "\n",
        "# NOTE\n",
        "# the ONLY thing that you should have to change for a working MLP is to\n",
        "# - add more variables\n",
        "# - adapt the model function (don't forget activation functions)\n",
        "# - add the new variables in the gradient call/update below\n",
        "\n",
        "# parameters for the training process\n",
        "# this already offers potential for experimentation\n",
        "# - how many steps do we actually need to reach acceptable performance?\n",
        "# - what if we train for some absurd number of steps?\n",
        "# - what happens if we increase/decrease the learning rate?\n",
        "# - do learning rate and number of steps interact?\n",
        "# - ...\n",
        "train_steps = 4000\n",
        "learning_rate = 0.1"
      ],
      "metadata": {
        "id": "t7aF5WRp8hxA"
      },
      "execution_count": null,
      "outputs": []
    },
    {
      "cell_type": "code",
      "source": [
        "# training loop\n",
        "for step in range(train_steps+1):\n",
        "    image_batch, label_batch = data.next_batch()\n",
        "\n",
        "    with tf.GradientTape(persistent=True) as tape:\n",
        "        logits = model(image_batch)\n",
        "        xent = tf.reduce_mean(tf.nn.sparse_softmax_cross_entropy_with_logits(\n",
        "            logits=logits, labels=label_batch))\n",
        "        \n",
        "    grads_0 = tape.gradient(xent, [Weight_0, bias_0])\n",
        "    Weight_0.assign_sub(learning_rate * grads_0[0])\n",
        "    bias_0.assign_sub(learning_rate * grads_0[1])\n",
        "\n",
        "    # grads_1 = tape.gradient(xent, [Weight_1, bias_1])\n",
        "    # Weight_1.assign_sub(learning_rate * grads_1[0])\n",
        "    # bias_1.assign_sub(learning_rate * grads_1[1])\n",
        "\n",
        "    grads_2 = tape.gradient(xent, [Weight_2, bias_2])\n",
        "    Weight_2.assign_sub(learning_rate * grads_2[0])\n",
        "    bias_2.assign_sub(learning_rate * grads_2[1])  \n",
        "\n",
        "    del tape\n",
        "    # every so often we print loss/accuracy\n",
        "    if not step % 500:\n",
        "        preds = tf.argmax(logits, axis=1, output_type=tf.int32)\n",
        "        acc = tf.reduce_mean(tf.cast(tf.equal(preds, label_batch),\n",
        "                             tf.float32))\n",
        "        print(\"Step {}. Batch loss: {} Batch accuracy: {}\".format(step+1, xent, acc))"
      ],
      "metadata": {
        "colab": {
          "base_uri": "https://localhost:8080/"
        },
        "outputId": "81e1c388-3d23-403c-bc70-d697948148cb",
        "id": "MORZU8_E8p3i"
      },
      "execution_count": null,
      "outputs": [
        {
          "output_type": "stream",
          "name": "stdout",
          "text": [
            "Step 1. Batch loss: 2.3025689125061035 Batch accuracy: 0.0625\n",
            "Starting new epoch...\n",
            "Starting new epoch...\n",
            "Step 501. Batch loss: 2.3027420043945312 Batch accuracy: 0.0520833320915699\n",
            "Starting new epoch...\n",
            "Step 1001. Batch loss: 2.3018712997436523 Batch accuracy: 0.1328125\n",
            "Starting new epoch...\n",
            "Step 1501. Batch loss: 2.3018949031829834 Batch accuracy: 0.1171875\n",
            "Starting new epoch...\n",
            "Step 2001. Batch loss: 2.301546573638916 Batch accuracy: 0.1171875\n",
            "Starting new epoch...\n",
            "Step 2501. Batch loss: 2.3033430576324463 Batch accuracy: 0.0859375\n",
            "Starting new epoch...\n",
            "Step 3001. Batch loss: 2.304590940475464 Batch accuracy: 0.0703125\n",
            "Starting new epoch...\n",
            "Step 3501. Batch loss: 2.3024563789367676 Batch accuracy: 0.109375\n",
            "Starting new epoch...\n",
            "Step 4001. Batch loss: 2.3003926277160645 Batch accuracy: 0.109375\n"
          ]
        }
      ]
    },
    {
      "cell_type": "code",
      "source": [
        "test_preds = tf.argmax(model(data.test_data), axis=1,\n",
        "                       output_type=tf.int32)\n",
        "acc = tf.reduce_mean(tf.cast(tf.equal(test_preds, data.test_labels),\n",
        "                             tf.float32))\n",
        "print(\"Test accuracy using Softmax: {}\".format(acc))"
      ],
      "metadata": {
        "colab": {
          "base_uri": "https://localhost:8080/"
        },
        "outputId": "013e380f-d6f5-4803-a08a-2b0668e1bba5",
        "id": "7T2oBL6J8y7e"
      },
      "execution_count": null,
      "outputs": [
        {
          "output_type": "stream",
          "name": "stdout",
          "text": [
            "Test accuracy using Softmax: 0.11349999904632568\n"
          ]
        }
      ]
    },
    {
      "cell_type": "markdown",
      "source": [
        "Accuracy for Softmax activation is too low (11%), hence not usable."
      ],
      "metadata": {
        "id": "AV10hLrgxXeU"
      }
    }
  ]
}