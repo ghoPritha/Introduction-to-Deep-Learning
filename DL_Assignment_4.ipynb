{
  "cells": [
    {
      "cell_type": "code",
      "execution_count": 93,
      "metadata": {
        "id": "53XXnPTTAWRW"
      },
      "outputs": [],
      "source": [
        "import os\n",
        "import numpy as np\n",
        "import tensorflow as tf\n",
        "from tensorflow import keras\n",
        "from tensorflow.keras import layers\n",
        "import matplotlib.pyplot as plt\n",
        "import time\n",
        "from datetime import datetime\n",
        "import tensorboard\n",
        "%load_ext tensorboard\n"
      ]
    },
    {
      "cell_type": "markdown",
      "source": [
        "***TASK 1***\n",
        "---------------------------------------"
      ],
      "metadata": {
        "id": "XiXtHX-g0QvN"
      }
    },
    {
      "cell_type": "code",
      "execution_count": 3,
      "metadata": {
        "colab": {
          "base_uri": "https://localhost:8080/",
          "height": 320
        },
        "outputId": "583d1bec-e2be-4272-dd0f-85041bfc1595",
        "id": "IW_8Etujz6XO"
      },
      "outputs": [
        {
          "output_type": "stream",
          "name": "stdout",
          "text": [
            "Downloading data from https://www.cs.toronto.edu/~kriz/cifar-10-python.tar.gz\n",
            "170498071/170498071 [==============================] - 6s 0us/step\n",
            "[4]\n"
          ]
        },
        {
          "output_type": "display_data",
          "data": {
            "text/plain": [
              "<Figure size 432x288 with 1 Axes>"
            ],
            "image/png": "[encoded data removed]"
          },
          "metadata": {
            "needs_background": "light"
          }
        }
      ],
      "source": [
        "(train_images, train_labels), (test_images, test_labels) = tf.keras.datasets.cifar10.load_data()\n",
        "\n",
        "train_set = tf.data.Dataset.from_tensor_slices(\n",
        "    (train_images.reshape([-1, 32, 32, 3]).astype(np.float32)/255, train_labels.reshape((-1,)).astype(np.int32))).shuffle(buffer_size=60000).batch(128).repeat()\n",
        "\n",
        "test_set = tf.data.Dataset.from_tensor_slices(\n",
        "    (test_images.reshape([-1, 32, 32, 3]).astype(np.float32)/255, test_labels.reshape((-1,)).astype(np.int32))).batch(128)\n",
        "print(train_labels[10])\n",
        "plt.imshow(train_images[10], cmap=\"Greys_r\")\n",
        "plt.show()"
      ]
    },
    {
      "cell_type": "code",
      "execution_count": 54,
      "metadata": {
        "id": "Nars8vuIz6XQ",
        "colab": {
          "base_uri": "https://localhost:8080/"
        },
        "outputId": "bdb68381-d40c-4f4a-e5ec-95b403356947"
      },
      "outputs": [
        {
          "output_type": "stream",
          "name": "stdout",
          "text": [
            "(None, 32, 32, 3)\n",
            "<dtype: 'float32'>\n",
            "Model: \"DenseNet3Block\"\n",
            "__________________________________________________________________________________________________\n",
            " Layer (type)                   Output Shape         Param #     Connected to                     \n",
            "==================================================================================================\n",
            " input_47 (InputLayer)          [(None, 32, 32, 3)]  0           []                               \n",
            "                                                                                                  \n",
            " conv2d_287 (Conv2D)            (None, 32, 32, 64)   1792        ['input_47[0][0]']               \n",
            "                                                                                                  \n",
            " conv2d_288 (Conv2D)            (None, 32, 32, 64)   36928       ['conv2d_287[0][0]']             \n",
            "                                                                                                  \n",
            " conv2d_289 (Conv2D)            (None, 32, 32, 64)   36928       ['conv2d_288[0][0]']             \n",
            "                                                                                                  \n",
            " concatenate_71 (Concatenate)   (None, 32, 32, 67)   0           ['conv2d_289[0][0]',             \n",
            "                                                                  'input_47[0][0]']               \n",
            "                                                                                                  \n",
            " conv2d_290 (Conv2D)            (None, 32, 32, 64)   4352        ['concatenate_71[0][0]']         \n",
            "                                                                                                  \n",
            " average_pooling2d_33 (AverageP  (None, 16, 16, 64)  0           ['conv2d_290[0][0]']             \n",
            " ooling2D)                                                                                        \n",
            "                                                                                                  \n",
            " conv2d_291 (Conv2D)            (None, 16, 16, 64)   102464      ['average_pooling2d_33[0][0]']   \n",
            "                                                                                                  \n",
            " conv2d_292 (Conv2D)            (None, 16, 16, 64)   102464      ['conv2d_291[0][0]']             \n",
            "                                                                                                  \n",
            " conv2d_293 (Conv2D)            (None, 16, 16, 64)   102464      ['conv2d_292[0][0]']             \n",
            "                                                                                                  \n",
            " concatenate_72 (Concatenate)   (None, 16, 16, 128)  0           ['conv2d_293[0][0]',             \n",
            "                                                                  'average_pooling2d_33[0][0]']   \n",
            "                                                                                                  \n",
            " conv2d_294 (Conv2D)            (None, 16, 16, 64)   8256        ['concatenate_72[0][0]']         \n",
            "                                                                                                  \n",
            " average_pooling2d_34 (AverageP  (None, 8, 8, 64)    0           ['conv2d_294[0][0]']             \n",
            " ooling2D)                                                                                        \n",
            "                                                                                                  \n",
            " conv2d_295 (Conv2D)            (None, 8, 8, 64)     102464      ['average_pooling2d_34[0][0]']   \n",
            "                                                                                                  \n",
            " conv2d_296 (Conv2D)            (None, 8, 8, 64)     102464      ['conv2d_295[0][0]']             \n",
            "                                                                                                  \n",
            " conv2d_297 (Conv2D)            (None, 8, 8, 64)     102464      ['conv2d_296[0][0]']             \n",
            "                                                                                                  \n",
            " concatenate_73 (Concatenate)   (None, 8, 8, 128)    0           ['conv2d_297[0][0]',             \n",
            "                                                                  'average_pooling2d_34[0][0]']   \n",
            "                                                                                                  \n",
            " conv2d_298 (Conv2D)            (None, 8, 8, 64)     8256        ['concatenate_73[0][0]']         \n",
            "                                                                                                  \n",
            " average_pooling2d_35 (AverageP  (None, 4, 4, 64)    0           ['conv2d_298[0][0]']             \n",
            " ooling2D)                                                                                        \n",
            "                                                                                                  \n",
            " global_average_pooling2d_13 (G  (None, 64)          0           ['average_pooling2d_35[0][0]']   \n",
            " lobalAveragePooling2D)                                                                           \n",
            "                                                                                                  \n",
            " dense_26 (Dense)               (None, 10)           650         ['global_average_pooling2d_13[0][\n",
            "                                                                 0]']                             \n",
            "                                                                                                  \n",
            "==================================================================================================\n",
            "Total params: 711,946\n",
            "Trainable params: 711,946\n",
            "Non-trainable params: 0\n",
            "__________________________________________________________________________________________________\n"
          ]
        }
      ],
      "source": [
        "input_DenseNet = keras.Input(shape=(32, 32, 3))\n",
        "print(input_DenseNet.shape)\n",
        "print(input_DenseNet.dtype)\n",
        "\n",
        "# input_DenseNet = layers.Conv2D(64, 3, activation=\"relu\", padding=\"same\")(input_DenseNet)\n",
        "# input_DenseNet = layers.MaxPool2D(3, strides = 2 , padding=\"same\")(input_DenseNet)\n",
        "# Block 1\n",
        "conv_1 = layers.Conv2D(64, 3, activation=\"relu\", padding=\"same\")(input_DenseNet)\n",
        "conv_2 = layers.Conv2D(64, 3, activation=\"relu\", padding=\"same\")(conv_1)\n",
        "conv_3 = layers.Conv2D(64, 3, activation=\"relu\", padding=\"same\")(conv_2)\n",
        "# pool_1 = layers.MaxPool2D(3, strides = 1 , padding=\"same\")(input_DenseNet)\n",
        "\n",
        "# transition layer to reduce feature map size for Block 1\n",
        "block_1 = layers.concatenate([conv_3, input_DenseNet])\n",
        "block_1 = layers.Conv2D(64, 1, activation=\"relu\", padding=\"same\")(block_1)\n",
        "output_block_1 = layers.AveragePooling2D(pool_size=(2, 2), strides = 2, padding=\"same\")(block_1)\n",
        "\n",
        "\n",
        "# Block 2\n",
        "conv_4 = layers.Conv2D(64, 5, activation=\"relu\", padding=\"same\")(output_block_1)\n",
        "conv_5 = layers.Conv2D(64, 5, activation=\"relu\", padding=\"same\")(conv_4)\n",
        "conv_6 = layers.Conv2D(64, 5, activation=\"relu\", padding=\"same\")(conv_5)\n",
        "\n",
        "# transition layer to reduce feature map size for Block 2\n",
        "block_2 = tf.keras.layers.concatenate([conv_6, output_block_1])\n",
        "block_2 = layers.Conv2D(64, 1, activation=\"relu\", padding=\"same\")(block_2)\n",
        "output_block_2 = layers.AveragePooling2D(pool_size=(2, 2), strides = 2,  padding=\"same\")(block_2)\n",
        "\n",
        "\n",
        "# Block 3\n",
        "conv_7 = layers.Conv2D(64, 5, activation=\"relu\", padding=\"same\")(output_block_2)\n",
        "conv_8 = layers.Conv2D(64, 5, activation=\"relu\", padding=\"same\")(conv_7)\n",
        "conv_9 = layers.Conv2D(64, 5, activation=\"relu\", padding=\"same\")(conv_8)\n",
        "\n",
        "# transition layer to reduce feature map size for Block 2\n",
        "block_3 = layers.concatenate([conv_9, output_block_2])\n",
        "block_3 = layers.Conv2D(64, 1, activation=\"relu\", padding=\"same\")(block_3)\n",
        "output_block_3 = layers.AveragePooling2D(pool_size=(2, 2), strides = 2, padding=\"same\")(block_3)\n",
        "\n",
        "# output layer\n",
        "output = layers.GlobalAveragePooling2D()(output_block_3)\n",
        "output_DenseNet = layers.Dense(10)(output)\n",
        "\n",
        "\n",
        "model = keras.Model(input_DenseNet, output_DenseNet, name=\"DenseNet3Block\")\n",
        "model.summary()"
      ]
    },
    {
      "cell_type": "code",
      "execution_count": 55,
      "metadata": {
        "colab": {
          "base_uri": "https://localhost:8080/"
        },
        "id": "Yz905ifBRsOx",
        "outputId": "487f7ee6-9172-46e6-c947-73d6f049a842"
      },
      "outputs": [
        {
          "output_type": "stream",
          "name": "stdout",
          "text": [
            "Epoch 1/5\n",
            "1563/1563 [==============================] - 25s 15ms/step - loss: 1.6331 - sparse_categorical_accuracy: 0.4118 - val_loss: 1.2804 - val_sparse_categorical_accuracy: 0.5342\n",
            "Epoch 2/5\n",
            "1563/1563 [==============================] - 23s 15ms/step - loss: 1.0993 - sparse_categorical_accuracy: 0.6114 - val_loss: 0.9923 - val_sparse_categorical_accuracy: 0.6484\n",
            "Epoch 3/5\n",
            "1563/1563 [==============================] - 23s 15ms/step - loss: 0.8838 - sparse_categorical_accuracy: 0.6913 - val_loss: 0.8407 - val_sparse_categorical_accuracy: 0.7069\n",
            "Epoch 4/5\n",
            "1563/1563 [==============================] - 23s 15ms/step - loss: 0.7531 - sparse_categorical_accuracy: 0.7377 - val_loss: 0.7449 - val_sparse_categorical_accuracy: 0.7444\n",
            "Epoch 5/5\n",
            "1563/1563 [==============================] - 23s 15ms/step - loss: 0.6533 - sparse_categorical_accuracy: 0.7752 - val_loss: 0.7725 - val_sparse_categorical_accuracy: 0.7479\n"
          ]
        }
      ],
      "source": [
        "model.compile(optimizer='Adam',\n",
        "              loss=tf.losses.SparseCategoricalCrossentropy(from_logits=True),\n",
        "              metrics= [tf.metrics.SparseCategoricalAccuracy()])\n",
        "history = model.fit(train_images, train_labels, epochs=5, \n",
        "                    validation_data=(test_images,test_labels))"
      ]
    },
    {
      "cell_type": "code",
      "execution_count": 56,
      "metadata": {
        "id": "hiEZNMPiUhXC",
        "colab": {
          "base_uri": "https://localhost:8080/"
        },
        "outputId": "36792fe2-54da-418e-e0f6-8e0636ff92e3"
      },
      "outputs": [
        {
          "output_type": "stream",
          "name": "stdout",
          "text": [
            "313/313 [==============================] - 2s 6ms/step - loss: 0.7725 - sparse_categorical_accuracy: 0.7479\n"
          ]
        },
        {
          "output_type": "execute_result",
          "data": {
            "text/plain": [
              "[0.7725191116333008, 0.7479000091552734]"
            ]
          },
          "metadata": {},
          "execution_count": 56
        }
      ],
      "source": [
        "model.evaluate(test_images, test_labels)"
      ]
    },
    {
      "cell_type": "markdown",
      "source": [
        "***TASK 2***\n",
        "-----------------------------------\n"
      ],
      "metadata": {
        "id": "vnU_O8c_RTVb"
      }
    },
    {
      "cell_type": "code",
      "execution_count": 79,
      "metadata": {
        "id": "Nj1XXIVc8-2T"
      },
      "outputs": [],
      "source": [
        "# stereotypical train-step-with-function-annotation\n",
        "optimizer = tf.optimizers.Adam()\n",
        "\n",
        "loss_fn = tf.losses.SparseCategoricalCrossentropy(from_logits=True)\n",
        "\n",
        "train_acc_metric = tf.metrics.SparseCategoricalAccuracy()\n",
        "\n",
        "@tf.function\n",
        "def train_step(images, labels):\n",
        "    with tf.GradientTape() as tape:\n",
        "        logits = model(images)\n",
        "        xent = loss_fn(labels, logits)\n",
        "\n",
        "    variables = model.trainable_variables\n",
        "    gradients = tape.gradient(xent, variables)\n",
        "    optimizer.apply_gradients(zip(gradients, variables))\n",
        "\n",
        "    return xent, logits\n",
        "\n",
        "\n",
        "def training_step(images, labels):\n",
        "    with tf.GradientTape() as tape:\n",
        "        logits = model(images)\n",
        "        xent = loss_fn(labels, logits)\n",
        "\n",
        "    variables = model.trainable_variables\n",
        "    gradients = tape.gradient(xent, variables)\n",
        "    optimizer.apply_gradients(zip(gradients, variables))\n",
        "\n",
        "    return xent, logits\n",
        "\n",
        "@tf.function\n",
        "def train_step_mlp(images, labels):\n",
        "    with tf.GradientTape() as tape:\n",
        "        logits = mlp_model(images)\n",
        "        xent = loss_fn(labels, logits)\n",
        "\n",
        "    variables = model.trainable_variables\n",
        "    gradients = tape.gradient(xent, variables)\n",
        "    optimizer.apply_gradients(zip(gradients, variables))\n",
        "\n",
        "    return xent, logits\n",
        "\n",
        "\n",
        "def training_step_mlp(images, labels):\n",
        "    with tf.GradientTape() as tape:\n",
        "        logits = mlp_model(images)\n",
        "        xent = loss_fn(labels, logits)\n",
        "\n",
        "    variables = model.trainable_variables\n",
        "    gradients = tape.gradient(xent, variables)\n",
        "    optimizer.apply_gradients(zip(gradients, variables))\n",
        "\n",
        "    return xent, logits"
      ]
    },
    {
      "cell_type": "code",
      "execution_count": 76,
      "metadata": {
        "colab": {
          "base_uri": "https://localhost:8080/"
        },
        "id": "oTvyCwZrQkcw",
        "outputId": "77719010-b2ab-46ba-8b5f-142c2a1b61d9"
      },
      "outputs": [
        {
          "output_type": "stream",
          "name": "stdout",
          "text": [
            "with graph execution\n",
            "Step no: 0 | Loss: 0.011516992002725601 | Accuracy: 0.9921875\n",
            "took 0.15270543098449707 seconds\n",
            "\n",
            "Step no: 400 | Loss: 0.02654046006500721 | Accuracy: 0.9921875\n",
            "took 14.168830394744873 seconds\n",
            "\n",
            "Step no: 800 | Loss: 0.001534186420030892 | Accuracy: 1.0\n",
            "took 14.359786748886108 seconds\n",
            "\n",
            "Step no: 1200 | Loss: 0.010468296706676483 | Accuracy: 1.0\n",
            "took 14.46867299079895 seconds\n",
            "\n",
            "Step no: 1600 | Loss: 0.002892036223784089 | Accuracy: 1.0\n",
            "took 14.433529376983643 seconds\n",
            "\n",
            "Step no: 2000 | Loss: 0.024464383721351624 | Accuracy: 0.9921875\n",
            "took 14.202605962753296 seconds\n",
            "\n"
          ]
        }
      ],
      "source": [
        "train_steps = 2000\n",
        "start = time.time()\n",
        "\n",
        "\n",
        "print(\"with graph execution\")\n",
        "\n",
        "for step, (img_batch, lbl_batch) in enumerate(train_set):\n",
        "    if step > train_steps:\n",
        "        break\n",
        "    xent, logits = train_step(img_batch, lbl_batch)\n",
        "\n",
        "    if not step % 400:\n",
        "        train_acc_metric(lbl_batch, logits)\n",
        "        acc = train_acc_metric.result()\n",
        "        print(\"Step no: {} | Loss: {} | Accuracy: {}\".format(step, xent, acc))\n",
        "        train_acc_metric.reset_states()\n",
        "\n",
        "        stop = time.time()\n",
        "        print(\"took {} seconds\\n\".format(stop-start))\n",
        "        start = time.time()\n",
        "\n"
      ]
    },
    {
      "cell_type": "code",
      "execution_count": 73,
      "metadata": {
        "colab": {
          "base_uri": "https://localhost:8080/"
        },
        "outputId": "ba23a3db-062d-4f25-a774-575a9dc67e3b",
        "id": "5CEGBMXuSQVW"
      },
      "outputs": [
        {
          "output_type": "stream",
          "name": "stdout",
          "text": [
            "without graph execution\n",
            "Step no: 0 | Loss: 0.010850874707102776 | Accuracy: 0.9921875\n",
            "took 0.1514277458190918 seconds\n",
            "\n",
            "Step no: 400 | Loss: 0.01726371794939041 | Accuracy: 0.9921875\n",
            "took 18.589876413345337 seconds\n",
            "\n",
            "Step no: 800 | Loss: 0.0060083260759711266 | Accuracy: 1.0\n",
            "took 18.509227991104126 seconds\n",
            "\n",
            "Step no: 1200 | Loss: 0.07489652931690216 | Accuracy: 0.984375\n",
            "took 18.445528984069824 seconds\n",
            "\n",
            "Step no: 1600 | Loss: 0.004952406045049429 | Accuracy: 1.0\n",
            "took 18.271588563919067 seconds\n",
            "\n",
            "Step no: 2000 | Loss: 0.008561876602470875 | Accuracy: 1.0\n",
            "took 18.33797001838684 seconds\n",
            "\n"
          ]
        }
      ],
      "source": [
        "train_steps = 2000\n",
        "\n",
        "start = time.time()\n",
        "print(\"without graph execution\")\n",
        "\n",
        "for step, (img_batch, lbl_batch) in enumerate(train_set):\n",
        "    if step > train_steps:\n",
        "        break\n",
        "    \n",
        "    xent, logits = training_step(img_batch, lbl_batch)\n",
        "\n",
        "    if not step % 400:\n",
        "        train_acc_metric(lbl_batch, logits)\n",
        "        acc = train_acc_metric.result()\n",
        "        print(\"Step no: {} | Loss: {} | Accuracy: {}\".format(step, xent, acc))\n",
        "        train_acc_metric.reset_states()\n",
        "\n",
        "        stop = time.time()\n",
        "        print(\"took {} seconds\\n\".format(stop-start))\n",
        "        start = time.time()\n"
      ]
    },
    {
      "cell_type": "markdown",
      "source": [
        "***MLP with and without @tf.function***\n",
        "-------------------------\n"
      ],
      "metadata": {
        "id": "KzRzueRPUkyb"
      }
    },
    {
      "cell_type": "code",
      "source": [
        "mlp_model = tf.keras.models.Sequential([\n",
        "    tf.keras.layers.Rescaling(1.,input_shape=(32, 32, 3)),\n",
        "    tf.keras.layers.Dense(300, activation='relu'),\n",
        "    tf.keras.layers.Dense(100, activation='relu'),\n",
        "    tf.keras.layers.Dense(10, activation='softmax'),\n",
        "])"
      ],
      "metadata": {
        "id": "VlOlmBYhT6r1"
      },
      "execution_count": 81,
      "outputs": []
    },
    {
      "cell_type": "code",
      "execution_count": 82,
      "metadata": {
        "colab": {
          "base_uri": "https://localhost:8080/"
        },
        "outputId": "1930d5c8-9254-401d-8509-9795cad0a6b5",
        "id": "TOcARVKXZST4"
      },
      "outputs": [
        {
          "output_type": "stream",
          "name": "stdout",
          "text": [
            "without graph execution\n",
            "Step no: 0 | Loss: 0.014527734369039536 | Accuracy: 0.9921875\n",
            "took 0.17173504829406738 seconds\n",
            "\n",
            "Step no: 400 | Loss: 0.012718414887785912 | Accuracy: 0.9921875\n",
            "took 19.13652801513672 seconds\n",
            "\n",
            "Step no: 800 | Loss: 0.007301848381757736 | Accuracy: 1.0\n",
            "took 18.45614790916443 seconds\n",
            "\n",
            "Step no: 1200 | Loss: 0.004926498979330063 | Accuracy: 1.0\n",
            "took 18.361228704452515 seconds\n",
            "\n",
            "Step no: 1600 | Loss: 0.027607981115579605 | Accuracy: 0.984375\n",
            "took 18.43343186378479 seconds\n",
            "\n",
            "Step no: 2000 | Loss: 0.003116187173873186 | Accuracy: 1.0\n",
            "took 18.3194899559021 seconds\n",
            "\n"
          ]
        }
      ],
      "source": [
        "train_steps = 2000\n",
        "\n",
        "start = time.time()\n",
        "print(\"without graph execution\")\n",
        "\n",
        "for step, (img_batch, lbl_batch) in enumerate(train_set):\n",
        "    if step > train_steps:\n",
        "        break\n",
        "    \n",
        "    xent, logits = training_step(img_batch, lbl_batch)\n",
        "\n",
        "    if not step % 400:\n",
        "        train_acc_metric(lbl_batch, logits)\n",
        "        acc = train_acc_metric.result()\n",
        "        print(\"Step no: {} | Loss: {} | Accuracy: {}\".format(step, xent, acc))\n",
        "        train_acc_metric.reset_states()\n",
        "\n",
        "        stop = time.time()\n",
        "        print(\"took {} seconds\\n\".format(stop-start))\n",
        "        start = time.time()\n"
      ]
    },
    {
      "cell_type": "code",
      "execution_count": 98,
      "metadata": {
        "colab": {
          "base_uri": "https://localhost:8080/"
        },
        "outputId": "db74e09d-28dd-41e0-9c77-a786f3f6a77c",
        "id": "wGREwoiIZogZ"
      },
      "outputs": [
        {
          "output_type": "stream",
          "name": "stdout",
          "text": [
            "with graph execution\n",
            "Step no: 0 | Loss: 0.0007358271977864206 | Accuracy: 1.0\n",
            "took 0.1582345962524414 seconds\n",
            "\n",
            "Step no: 400 | Loss: 0.005741880740970373 | Accuracy: 1.0\n",
            "took 14.379942655563354 seconds\n",
            "\n",
            "Step no: 800 | Loss: 0.004001328255981207 | Accuracy: 1.0\n",
            "took 14.569858074188232 seconds\n",
            "\n",
            "Step no: 1200 | Loss: 0.07643134146928787 | Accuracy: 0.96875\n",
            "took 14.381007432937622 seconds\n",
            "\n",
            "Step no: 1600 | Loss: 0.002633417723700404 | Accuracy: 1.0\n",
            "took 14.238472938537598 seconds\n",
            "\n",
            "Step no: 2000 | Loss: 0.03343939408659935 | Accuracy: 0.984375\n",
            "took 14.325185537338257 seconds\n",
            "\n"
          ]
        }
      ],
      "source": [
        "train_steps = 2000\n",
        "start = time.time()\n",
        "\n",
        "\n",
        "print(\"with graph execution\")\n",
        "\n",
        "for step, (img_batch, lbl_batch) in enumerate(train_set):\n",
        "    if step > train_steps:\n",
        "        break\n",
        "    # Set up logging.\n",
        "    # stamp = datetime.now().strftime(\"%Y%m%d-%H%M%S\")\n",
        "    # logdir = 'logs/func/%s' % stamp\n",
        "    # writer = tf.summary.create_file_writer(logdir)\n",
        "    # tf.summary.trace_on(graph=True, profiler=True)\n",
        "\n",
        "    xent, logits = train_step(img_batch, lbl_batch)\n",
        "\n",
        "    if not step % 400:\n",
        "        train_acc_metric(lbl_batch, logits)\n",
        "        acc = train_acc_metric.result()\n",
        "        print(\"Step no: {} | Loss: {} | Accuracy: {}\".format(step, xent, acc))\n",
        "        train_acc_metric.reset_states()\n",
        "\n",
        "        stop = time.time()\n",
        "        print(\"took {} seconds\\n\".format(stop-start))\n",
        "        start = time.time()\n",
        "\n"
      ]
    }
  ],
  "metadata": {
    "colab": {
      "collapsed_sections": [],
      "provenance": []
    },
    "kernelspec": {
      "display_name": "Python 3",
      "name": "python3"
    },
    "language_info": {
      "name": "python"
    },
    "gpuClass": "standard",
    "accelerator": "GPU"
  },
  "nbformat": 4,
  "nbformat_minor": 0
}